{
 "cells": [
  {
   "cell_type": "markdown",
   "id": "c404b44d-a95e-48f2-904c-8b3d92ff8468",
   "metadata": {},
   "source": [
    "## 注意力机制Attention:\n",
    "\n",
    "### 简介:\n",
    "\n",
    "这一部分是Transformer模型的核心部分,以下部分逐步给出实现过程中可能用到的一些矩阵运算的原理， 以下代码均不需要大家实现,希望大家阅读代码以及下列文档中的信息:\n",
    "\n",
    "https://arxiv.org/abs/1706.03762\n",
    "\n",
    "https://jalammar.github.io/illustrated-transformer/\n",
    "\n",
    "理解Attention的运行机制以及实现过程的数学技巧，完成最后的主文件中的HeadAttention(),MultiHeadAttention()部分。"
   ]
  },
  {
   "cell_type": "markdown",
   "id": "b4579fba-f65b-4a0b-b700-01841ec0ef2a",
   "metadata": {},
   "source": [
    "我们虚构一组输入数据的Embedding用于这部分讲解："
   ]
  },
  {
   "cell_type": "code",
   "execution_count": 1,
   "id": "16c5b454-0aee-4310-b52a-2ce03ed70dc4",
   "metadata": {
    "editable": true,
    "scrolled": true,
    "slideshow": {
     "slide_type": ""
    },
    "tags": []
   },
   "outputs": [
    {
     "name": "stdout",
     "output_type": "stream",
     "text": [
      "Embedding of 0th position:\n",
      " tensor([0.6773, 0.7098, 0.4272, 0.5622, 0.2731, 0.7304, 0.3566, 0.7356, 0.8300,\n",
      "        0.5739, 0.4327, 0.9170, 0.7448, 0.3570, 0.6208, 0.6920])\n",
      "Embedding of 1th position:\n",
      " tensor([0.2382, 0.6290, 0.4834, 0.7422, 0.4020, 0.8890, 0.5385, 0.0952, 0.0054,\n",
      "        0.4483, 0.9280, 0.5547, 0.8022, 0.1790, 0.1831, 0.2948])\n",
      "Embedding of 2th position:\n",
      " tensor([0.7674, 0.9722, 0.1052, 0.7407, 0.5425, 0.7726, 0.2650, 0.8362, 0.7750,\n",
      "        0.8019, 0.6017, 0.3437, 0.3333, 0.0733, 0.3888, 0.0779])\n",
      "Embedding of 3th position:\n",
      " tensor([0.9703, 0.4540, 0.9663, 0.0288, 0.4122, 0.0723, 0.8923, 0.4230, 0.2880,\n",
      "        0.2617, 0.0920, 0.4588, 0.9402, 0.7001, 0.0385, 0.4353])\n",
      "Embedding of 4th position:\n",
      " tensor([0.0782, 0.9565, 0.7143, 0.6742, 0.6731, 0.1151, 0.4827, 0.6577, 0.2909,\n",
      "        0.0740, 0.2749, 0.8979, 0.9204, 0.7161, 0.1784, 0.6771])\n",
      "Embedding of 5th position:\n",
      " tensor([0.9091, 0.2057, 0.3678, 0.1444, 0.1281, 0.7960, 0.4960, 0.5763, 0.6024,\n",
      "        0.3228, 0.9494, 0.5276, 0.6707, 0.4873, 0.5044, 0.6826])\n",
      "Embedding of 6th position:\n",
      " tensor([0.2148, 0.3962, 0.5761, 0.8769, 0.4027, 0.2761, 0.4931, 0.3044, 0.2078,\n",
      "        0.8760, 0.9584, 0.8891, 0.3323, 0.3702, 0.8665, 0.7013])\n",
      "Embedding of 7th position:\n",
      " tensor([0.5591, 0.3429, 0.2972, 0.9593, 0.4259, 0.1253, 0.3720, 0.6755, 0.2253,\n",
      "        0.9319, 0.1644, 0.8362, 0.4627, 0.6821, 0.4023, 0.9281])\n"
     ]
    }
   ],
   "source": [
    "import torch\n",
    "from torch import nn\n",
    "import torch.nn.functional as F\n",
    "B, T, C = 1, 8, 16   ## B: batch size 一次训练的数据量, T: context length 前文token数, C: embedding length 隐变量长度\n",
    "inputData = torch.rand(size=(B,T,C))\n",
    "\n",
    "for i in range(T):\n",
    "    print(f\"Embedding of {i}th position:\\n {inputData[0,i]}\")\n"
   ]
  },
  {
   "cell_type": "markdown",
   "id": "fc0aeaa6-8340-4244-a9e8-1e606afa5796",
   "metadata": {},
   "source": [
    "Attention从直观上可以理解为对前文各个位置信息的融合以获得当前语境所需的信息。 一个最简单的融合方式为对前文Embedding加权求和作为当前位置的信息。\n",
    "\n",
    "我们计算第i个位置的融合后的embedding:\n",
    "\n",
    "假设前i个位置的embedding的权重相同，均为1/i，即更新后第i个位置embedding为前文所有位置embedding的平均值："
   ]
  },
  {
   "cell_type": "code",
   "execution_count": 2,
   "id": "a6aa8430-d3d0-4d4b-85f2-6bd04ef258b2",
   "metadata": {},
   "outputs": [
    {
     "name": "stdout",
     "output_type": "stream",
     "text": [
      "Embedding of Data after aggregate context embedding:\n",
      " tensor([[[0.6773, 0.7098, 0.4272, 0.5622, 0.2731, 0.7304, 0.3566, 0.7356,\n",
      "          0.8300, 0.5739, 0.4327, 0.9170, 0.7448, 0.3570, 0.6208, 0.6920],\n",
      "         [0.4578, 0.6694, 0.4553, 0.6522, 0.3375, 0.8097, 0.4475, 0.4154,\n",
      "          0.4177, 0.5111, 0.6804, 0.7358, 0.7735, 0.2680, 0.4019, 0.4934],\n",
      "         [0.6342, 0.7838, 0.3292, 0.6517, 0.3844, 0.7709, 0.3563, 0.6624,\n",
      "          0.6742, 0.6290, 0.5716, 0.6655, 0.6172, 0.2328, 0.4705, 0.4211],\n",
      "         [0.6849, 0.6543, 0.5445, 0.4737, 0.3518, 0.5958, 0.5132, 0.5591,\n",
      "          0.5525, 0.4939, 0.4442, 0.6943, 0.7689, 0.3895, 0.3829, 0.5104],\n",
      "         [0.5065, 0.7548, 0.4941, 0.6028, 0.4040, 0.6044, 0.4313, 0.6060,\n",
      "          0.5531, 0.4564, 0.4808, 0.7821, 0.7649, 0.3927, 0.4109, 0.5588],\n",
      "         [0.6450, 0.6296, 0.4364, 0.5145, 0.3132, 0.7179, 0.4335, 0.5925,\n",
      "          0.6050, 0.4978, 0.5932, 0.7204, 0.7233, 0.3545, 0.4652, 0.5597],\n",
      "         [0.5458, 0.6569, 0.4661, 0.6191, 0.3524, 0.6436, 0.4331, 0.5536,\n",
      "          0.5486, 0.5769, 0.5945, 0.7720, 0.6750, 0.3378, 0.5170, 0.5624],\n",
      "         [0.5888, 0.6502, 0.4313, 0.6294, 0.3553, 0.6248, 0.4179, 0.6000,\n",
      "          0.5508, 0.5839, 0.4952, 0.7654, 0.6913, 0.3768, 0.4589, 0.5908]]])\n"
     ]
    }
   ],
   "source": [
    "def Attention_version1(contextEmbeddings):\n",
    "    for i in range(T):\n",
    "        context_embeddings = contextEmbeddings[0,:i+1,:] ## shape [i+1, C]\n",
    "        new_embedding_for_i = torch.mean(context_embeddings,dim=0)\n",
    "        contextEmbeddings[0,i] = new_embedding_for_i\n",
    "    return contextEmbeddings\n",
    "\n",
    "print(\"Embedding of Data after aggregate context embedding:\\n\", Attention_version1(inputData))"
   ]
  },
  {
   "cell_type": "markdown",
   "id": "a9522221-a804-42c0-9a3e-4f4eb236bac0",
   "metadata": {},
   "source": [
    "我们将上述的mean操作换为等价的矩阵运算，以i=3 为例：\n",
    "\n",
    "new_embedding_for_3 = torch.mean(contextEmbeddings[0,:3+1],dim=0)\n",
    "\n",
    "等价于(@ 是矩阵乘法):\n",
    "\n",
    "new_embedding_for_3 = contextEmbeddings[0] @ torch.tensor([1/4,1/4,1/4,1/4,0,0,0,0])"
   ]
  },
  {
   "cell_type": "code",
   "execution_count": 3,
   "id": "9f2f1aa4-2f26-4074-87c0-9c52719d5af0",
   "metadata": {},
   "outputs": [
    {
     "name": "stdout",
     "output_type": "stream",
     "text": [
      "Attention_version1 equivalent to Attention_version2:  True\n"
     ]
    }
   ],
   "source": [
    "def Attention_version2(contextEmbeddings):\n",
    "    for i in range(T):\n",
    "        weight = torch.cat((torch.ones(i+1) / (i+1),torch.zeros(T-i-1,dtype=torch.float)),dim=0)\n",
    "        contextEmbeddings[0,i] = weight @ contextEmbeddings[0]\n",
    "    return contextEmbeddings\n",
    "\n",
    "print(\"Attention_version1 equivalent to Attention_version2: \",torch.all(Attention_version1(inputData) == Attention_version2(inputData)).item())"
   ]
  },
  {
   "cell_type": "markdown",
   "id": "b7daf38d-8411-4f24-98f1-85d9b1d59f47",
   "metadata": {},
   "source": [
    "接下来我们用矩阵运算进一步简化上述运算，移除其中的for循环:\n",
    "\n",
    "其中 weight = torch.tril(torch.ones(T,T)) 得到:\n",
    "\n",
    "[[1., 0., 0., 0., 0., 0., 0., 0.],\n",
    "\n",
    " [1., 1., 0., 0., 0., 0., 0., 0.],\n",
    " \n",
    " [1., 1., 1., 0., 0., 0., 0., 0.],\n",
    " \n",
    " [1., 1., 1., 1., 0., 0., 0., 0.],\n",
    " \n",
    " [1., 1., 1., 1., 1., 0., 0., 0.],\n",
    " \n",
    " [1., 1., 1., 1., 1., 1., 0., 0.],\n",
    " \n",
    " [1., 1., 1., 1., 1., 1., 1., 0.],\n",
    " \n",
    " [1., 1., 1., 1., 1., 1., 1., 1.]]\n",
    " \n",
    "表示前文的求和权重相同都为一。\n",
    "\n",
    "weight = weight.masked_fill(weight==0,float(\"-inf\"))\n",
    "\n",
    "weight = F.softmax(weight)\n",
    "\n",
    "这两行用于归一化weight,即每一次加权求和的权重和为1，具体详见Softmax公式,我们可得到：\n",
    "\n",
    "[[1.0000, 0.0000, 0.0000, 0.0000, 0.0000, 0.0000, 0.0000, 0.0000],\n",
    "\n",
    "[0.5000, 0.5000, 0.0000, 0.0000, 0.0000, 0.0000, 0.0000, 0.0000],\n",
    "\n",
    "[0.3333, 0.3333, 0.3333, 0.0000, 0.0000, 0.0000, 0.0000, 0.0000],\n",
    "\n",
    "[0.2500, 0.2500, 0.2500, 0.2500, 0.0000, 0.0000, 0.0000, 0.0000],\n",
    "\n",
    "[0.2000, 0.2000, 0.2000, 0.2000, 0.2000, 0.0000, 0.0000, 0.0000],\n",
    "\n",
    "[0.1667, 0.1667, 0.1667, 0.1667, 0.1667, 0.1667, 0.0000, 0.0000],\n",
    "\n",
    "[0.1429, 0.1429, 0.1429, 0.1429, 0.1429, 0.1429, 0.1429, 0.0000],\n",
    "\n",
    "[0.1250, 0.1250, 0.1250, 0.1250, 0.1250, 0.1250, 0.1250, 0.1250]]\n"
   ]
  },
  {
   "cell_type": "code",
   "execution_count": null,
   "id": "2a002dbd-4564-4c30-bb38-3b9cb8a00f3b",
   "metadata": {},
   "outputs": [],
   "source": [
    "def Attention_version3(contextEmbeddings):\n",
    "    B, T, C = contextEmbeddings.shape\n",
    "    weight = torch.tril(torch.ones(T,T))\n",
    "    print(\"weight of context embeddings:\\n\",weight)\n",
    "    weight = weight.masked_fill(weight==0,float(\"-inf\"))\n",
    "    weight = F.softmax(weight,dim=1)\n",
    "    print(\"weight of context embeddings after regularization:\\n\",weight)\n",
    "    contextEmbeddings[0] = weight @ contextEmbeddings[0]\n",
    "    return contextEmbeddings\n",
    "\n",
    "print(\"Attention_version1 equivalent to Attention_version3: \",torch.all(Attention_version1(inputData) == Attention_version3(inputData)).item())"
   ]
  },
  {
   "cell_type": "markdown",
   "id": "90ede396-fe51-4189-a7f2-d204dcc89a2b",
   "metadata": {},
   "source": [
    "最后，我们确定计算weight的方法，上述三个版本的weight都是假定所有前文信息的重要程度相同,在大语言模型中，我们希望有一个灵活的方式计算前文信息对应当前语境的重要程度，为此Transformer引入了Query，Key，Value:\n",
    "\n",
    "其中Query可以理解为当前语境对于前文信息的需求，Key可以理解为前文包含信息的索引，Value为前文所包含的信息。\n",
    "\n",
    "Query 和 Key 用来计算信息融合的weight.\n",
    "\n",
    "如何计算Query和Key，并用他们计算weight对Value加权求和是这次实验的重点内容，这里不能给出大家具体代码，希望大家参见Attention is All you need原论文以及助教提供的文档最后的参考链接学习这部分。\n",
    "\n",
    "利于Query和Key得出的是信息相关性，我们需要遮盖住下文的信息(生成第i个token时，只可以使用0到i-1处的信息)，并且要对相关性归一化使之可以作为weight。这里利于Attension_version3()中的结论给出如何对计算出来的相关性加掩码和归一化:\n"
   ]
  },
  {
   "cell_type": "code",
   "execution_count": null,
   "id": "af1f1973-fd77-4601-9028-5d6260845ecb",
   "metadata": {},
   "outputs": [],
   "source": [
    "def weight_mask_and_normalization(weight):\n",
    "    tril = torch.tril(torch.ones_like(weight))\n",
    "    weight = weight.masked_fill(tril == 0, float(\"-inf\"))\n",
    "    weight = F.softmax(weight,dim=-1)\n",
    "    return weight\n",
    "\n",
    "weight = torch.rand(T,T)\n",
    "print(\"weight before mask and normalize:\\n\",weight)\n",
    "print(\"weight after mask and normalize:\\n\",weight_mask_and_normalization(weight))"
   ]
  }
 ],
 "metadata": {
  "kernelspec": {
   "display_name": "Python 3 (ipykernel)",
   "language": "python",
   "name": "python3"
  },
  "language_info": {
   "codemirror_mode": {
    "name": "ipython",
    "version": 3
   },
   "file_extension": ".py",
   "mimetype": "text/x-python",
   "name": "python",
   "nbconvert_exporter": "python",
   "pygments_lexer": "ipython3",
   "version": "3.10.13"
  }
 },
 "nbformat": 4,
 "nbformat_minor": 5
}
