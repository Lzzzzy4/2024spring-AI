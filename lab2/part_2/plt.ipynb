{
 "cells": [
  {
   "cell_type": "code",
   "execution_count": null,
   "metadata": {},
   "outputs": [],
   "source": []
  },
  {
   "cell_type": "markdown",
   "metadata": {},
   "source": [
    "0%|          | 1/1743 [00:00<03:46,  7.70it/s]\n",
    "100%|██████████| 1743/1743 [02:17<00:00, 12.69it/s]\n",
    "Epoch 0 Loss: 1.800906479871622\n",
    "Epoch 0 Validation Loss: 1.4315018511693411\n",
    "Epoch 0 Train Loss: 1.800906479871622, Valid Loss: 1.4315018511693411\n",
    "100%|██████████| 1743/1743 [02:17<00:00, 12.70it/s]\n",
    "Epoch 1 Loss: 1.3686743211417929\n",
    "Epoch 1 Validation Loss: 1.326363294223033\n",
    "Epoch 1 Train Loss: 1.3686743211417929, Valid Loss: 1.326363294223033\n",
    "100%|██████████| 1743/1743 [02:19<00:00, 12.49it/s]\n",
    "Epoch 2 Loss: 1.297393119752373\n",
    "Epoch 2 Validation Loss: 1.2737394155712303\n",
    "Epoch 2 Train Loss: 1.297393119752373, Valid Loss: 1.2737394155712303\n",
    "100%|██████████| 1743/1743 [02:20<00:00, 12.38it/s]\n",
    "Epoch 3 Loss: 1.2564940724096556\n",
    "Epoch 3 Validation Loss: 1.243447649369546\n",
    "Epoch 3 Train Loss: 1.2564940724096556, Valid Loss: 1.243447649369546\n",
    "100%|██████████| 1743/1743 [02:20<00:00, 12.45it/s]\n",
    "Epoch 4 Loss: 1.225801166897181\n",
    "Epoch 4 Validation Loss: 1.215455241706393\n",
    "Epoch 4 Train Loss: 1.225801166897181, Valid Loss: 1.215455241706393\n",
    "100%|██████████| 1743/1743 [02:19<00:00, 12.52it/s]\n",
    "Epoch 5 Loss: 1.201080179050334\n",
    "Epoch 5 Validation Loss: 1.1931675019067363\n",
    "Epoch 5 Train Loss: 1.201080179050334, Valid Loss: 1.1931675019067363\n",
    "100%|██████████| 1743/1743 [02:14<00:00, 12.95it/s]\n",
    "Epoch 6 Loss: 1.1796873342149639\n",
    "Epoch 6 Validation Loss: 1.1742781490907757\n",
    "Epoch 6 Train Loss: 1.1796873342149639, Valid Loss: 1.1742781490907757\n",
    "100%|██████████| 1743/1743 [02:16<00:00, 12.81it/s]\n",
    "Epoch 7 Loss: 1.1617150563859966\n",
    "Epoch 7 Validation Loss: 1.1571090415530247\n",
    "Epoch 7 Train Loss: 1.1617150563859966, Valid Loss: 1.1571090415530247\n",
    "100%|██████████| 1743/1743 [02:14<00:00, 12.94it/s]\n",
    "Epoch 8 Loss: 1.1451577781194664\n",
    "Epoch 8 Validation Loss: 1.1446268834652158\n",
    "Epoch 8 Train Loss: 1.1451577781194664, Valid Loss: 1.1446268834652158\n",
    "100%|██████████| 1743/1743 [02:18<00:00, 12.55it/s]\n",
    "Epoch 9 Loss: 1.1305300294156055\n",
    "Epoch 9 Validation Loss: 1.1327867092342552\n",
    "Epoch 9 Train Loss: 1.1305300294156055, Valid Loss: 1.1327867092342552"
   ]
  }
 ],
 "metadata": {
  "language_info": {
   "name": "python"
  },
  "orig_nbformat": 4
 },
 "nbformat": 4,
 "nbformat_minor": 2
}
